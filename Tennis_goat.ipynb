{
  "nbformat": 4,
  "nbformat_minor": 0,
  "metadata": {
    "colab": {
      "name": "Tennis goat.ipynb",
      "provenance": [],
      "authorship_tag": "ABX9TyOqBZcV6D/5PeOfuU+UIlDq",
      "include_colab_link": true
    },
    "kernelspec": {
      "name": "python3",
      "display_name": "Python 3"
    },
    "language_info": {
      "name": "python"
    }
  },
  "cells": [
    {
      "cell_type": "markdown",
      "metadata": {
        "id": "view-in-github",
        "colab_type": "text"
      },
      "source": [
        "<a href=\"https://colab.research.google.com/github/Nikcos75/Nikcos75/blob/main/Tennis_goat.ipynb\" target=\"_parent\"><img src=\"https://colab.research.google.com/assets/colab-badge.svg\" alt=\"Open In Colab\"/></a>"
      ]
    },
    {
      "cell_type": "code",
      "metadata": {
        "colab": {
          "resources": {
            "http://localhost:8080/nbextensions/google.colab/files.js": {
              "data": "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",
              "ok": true,
              "headers": [
                [
                  "content-type",
                  "application/javascript"
                ]
              ],
              "status": 200,
              "status_text": "OK"
            }
          },
          "base_uri": "https://localhost:8080/",
          "height": 74
        },
        "id": "falT71pRy2lu",
        "outputId": "24655137-db87-4d32-b76d-5b62da073980"
      },
      "source": [
        "import os\n",
        "import pandas as pd, numpy as np\n",
        "from datetime import datetime\n",
        "import time\n",
        "from google.colab import files\n",
        "import io\n",
        "uploaded = files.upload()"
      ],
      "execution_count": null,
      "outputs": [
        {
          "output_type": "display_data",
          "data": {
            "text/html": [
              "\n",
              "     <input type=\"file\" id=\"files-a51d885c-b375-4b17-945b-04640dbd8cf3\" name=\"files[]\" multiple disabled\n",
              "        style=\"border:none\" />\n",
              "     <output id=\"result-a51d885c-b375-4b17-945b-04640dbd8cf3\">\n",
              "      Upload widget is only available when the cell has been executed in the\n",
              "      current browser session. Please rerun this cell to enable.\n",
              "      </output>\n",
              "      <script src=\"/nbextensions/google.colab/files.js\"></script> "
            ],
            "text/plain": [
              "<IPython.core.display.HTML object>"
            ]
          },
          "metadata": {
            "tags": []
          }
        },
        {
          "output_type": "stream",
          "text": [
            "Saving df2.csv to df2.csv\n"
          ],
          "name": "stdout"
        }
      ]
    },
    {
      "cell_type": "code",
      "metadata": {
        "colab": {
          "base_uri": "https://localhost:8080/",
          "height": 167
        },
        "id": "g8WkmxMfy7PE",
        "outputId": "3d2623b5-0d8e-438d-a422-cbb8aeeaeca6"
      },
      "source": [
        "df = pd.read_csv(io.BytesIO(uploaded['df2.csv']))"
      ],
      "execution_count": null,
      "outputs": [
        {
          "output_type": "error",
          "ename": "AttributeError",
          "evalue": "ignored",
          "traceback": [
            "\u001b[0;31m---------------------------------------------------------------------------\u001b[0m",
            "\u001b[0;31mAttributeError\u001b[0m                            Traceback (most recent call last)",
            "\u001b[0;32m<ipython-input-8-c7cc90063a3f>\u001b[0m in \u001b[0;36m<module>\u001b[0;34m()\u001b[0m\n\u001b[0;32m----> 1\u001b[0;31m \u001b[0mdf\u001b[0m \u001b[0;34m=\u001b[0m \u001b[0mpd\u001b[0m\u001b[0;34m.\u001b[0m\u001b[0mread_csv\u001b[0m\u001b[0;34m(\u001b[0m\u001b[0mio\u001b[0m\u001b[0;34m.\u001b[0m\u001b[0mBytesIO\u001b[0m\u001b[0;34m(\u001b[0m\u001b[0muploaded\u001b[0m\u001b[0;34m[\u001b[0m\u001b[0;34m'df2.csv'\u001b[0m\u001b[0;34m]\u001b[0m\u001b[0;34m)\u001b[0m\u001b[0;34m)\u001b[0m\u001b[0;34m\u001b[0m\u001b[0;34m\u001b[0m\u001b[0m\n\u001b[0m",
            "\u001b[0;31mAttributeError\u001b[0m: 'numpy.float64' object has no attribute 'read_csv'"
          ]
        }
      ]
    },
    {
      "cell_type": "code",
      "metadata": {
        "id": "dftEaoGZ2rEQ"
      },
      "source": [
        "df"
      ],
      "execution_count": null,
      "outputs": []
    },
    {
      "cell_type": "code",
      "metadata": {
        "id": "kGI7o0b4YN4g",
        "colab": {
          "base_uri": "https://localhost:8080/",
          "height": 424
        },
        "outputId": "38987023-e321-46f8-e24b-c2aa08df7ea5"
      },
      "source": [
        "dfx=df[['Winner','Loser','PSW','PSL','Date','WRank','LRank','Round','Court','Surface','Tournament']]\n",
        "dfx=dfx.dropna()\n",
        "dfx\n",
        "\n",
        "\n"
      ],
      "execution_count": null,
      "outputs": [
        {
          "output_type": "execute_result",
          "data": {
            "text/html": [
              "<div>\n",
              "<style scoped>\n",
              "    .dataframe tbody tr th:only-of-type {\n",
              "        vertical-align: middle;\n",
              "    }\n",
              "\n",
              "    .dataframe tbody tr th {\n",
              "        vertical-align: top;\n",
              "    }\n",
              "\n",
              "    .dataframe thead th {\n",
              "        text-align: right;\n",
              "    }\n",
              "</style>\n",
              "<table border=\"1\" class=\"dataframe\">\n",
              "  <thead>\n",
              "    <tr style=\"text-align: right;\">\n",
              "      <th></th>\n",
              "      <th>Winner</th>\n",
              "      <th>Loser</th>\n",
              "      <th>PSW</th>\n",
              "      <th>PSL</th>\n",
              "      <th>Date</th>\n",
              "      <th>WRank</th>\n",
              "      <th>LRank</th>\n",
              "      <th>Round</th>\n",
              "      <th>Court</th>\n",
              "      <th>Surface</th>\n",
              "      <th>Tournament</th>\n",
              "    </tr>\n",
              "  </thead>\n",
              "  <tbody>\n",
              "    <tr>\n",
              "      <th>11641</th>\n",
              "      <td>Spadea V.</td>\n",
              "      <td>Melzer J.</td>\n",
              "      <td>1.465</td>\n",
              "      <td>2.900</td>\n",
              "      <td>2004+AC0-01+AC0-05</td>\n",
              "      <td>29.0</td>\n",
              "      <td>79.0</td>\n",
              "      <td>1st Round</td>\n",
              "      <td>Outdoor</td>\n",
              "      <td>Hard</td>\n",
              "      <td>AAPT Championships</td>\n",
              "    </tr>\n",
              "    <tr>\n",
              "      <th>11642</th>\n",
              "      <td>Dent T.</td>\n",
              "      <td>Horna L.</td>\n",
              "      <td>1.241</td>\n",
              "      <td>4.550</td>\n",
              "      <td>2004+AC0-01+AC0-05</td>\n",
              "      <td>33.0</td>\n",
              "      <td>64.0</td>\n",
              "      <td>1st Round</td>\n",
              "      <td>Outdoor</td>\n",
              "      <td>Hard</td>\n",
              "      <td>AAPT Championships</td>\n",
              "    </tr>\n",
              "    <tr>\n",
              "      <th>11643</th>\n",
              "      <td>Martin A.</td>\n",
              "      <td>Ancic M.</td>\n",
              "      <td>2.170</td>\n",
              "      <td>1.752</td>\n",
              "      <td>2004+AC0-01+AC0-05</td>\n",
              "      <td>54.0</td>\n",
              "      <td>74.0</td>\n",
              "      <td>1st Round</td>\n",
              "      <td>Outdoor</td>\n",
              "      <td>Hard</td>\n",
              "      <td>AAPT Championships</td>\n",
              "    </tr>\n",
              "    <tr>\n",
              "      <th>11644</th>\n",
              "      <td>Beck K.</td>\n",
              "      <td>Vahaly B.</td>\n",
              "      <td>1.730</td>\n",
              "      <td>2.210</td>\n",
              "      <td>2004+AC0-01+AC0-05</td>\n",
              "      <td>66.0</td>\n",
              "      <td>75.0</td>\n",
              "      <td>1st Round</td>\n",
              "      <td>Outdoor</td>\n",
              "      <td>Hard</td>\n",
              "      <td>AAPT Championships</td>\n",
              "    </tr>\n",
              "    <tr>\n",
              "      <th>11645</th>\n",
              "      <td>Nieminen J.</td>\n",
              "      <td>Moodie W.</td>\n",
              "      <td>1.459</td>\n",
              "      <td>2.930</td>\n",
              "      <td>2004+AC0-01+AC0-05</td>\n",
              "      <td>36.0</td>\n",
              "      <td>82.0</td>\n",
              "      <td>1st Round</td>\n",
              "      <td>Outdoor</td>\n",
              "      <td>Hard</td>\n",
              "      <td>AAPT Championships</td>\n",
              "    </tr>\n",
              "    <tr>\n",
              "      <th>...</th>\n",
              "      <td>...</td>\n",
              "      <td>...</td>\n",
              "      <td>...</td>\n",
              "      <td>...</td>\n",
              "      <td>...</td>\n",
              "      <td>...</td>\n",
              "      <td>...</td>\n",
              "      <td>...</td>\n",
              "      <td>...</td>\n",
              "      <td>...</td>\n",
              "      <td>...</td>\n",
              "    </tr>\n",
              "    <tr>\n",
              "      <th>54902</th>\n",
              "      <td>Nadal R.</td>\n",
              "      <td>Tsitsipas S.</td>\n",
              "      <td>1.390</td>\n",
              "      <td>3.260</td>\n",
              "      <td>2019+AC0-11+AC0-15</td>\n",
              "      <td>1</td>\n",
              "      <td>6</td>\n",
              "      <td>Round Robin</td>\n",
              "      <td>Indoor</td>\n",
              "      <td>Hard</td>\n",
              "      <td>Masters Cup</td>\n",
              "    </tr>\n",
              "    <tr>\n",
              "      <th>54903</th>\n",
              "      <td>Zverev A.</td>\n",
              "      <td>Medvedev D.</td>\n",
              "      <td>2.140</td>\n",
              "      <td>1.790</td>\n",
              "      <td>2019+AC0-11+AC0-15</td>\n",
              "      <td>7</td>\n",
              "      <td>4</td>\n",
              "      <td>Round Robin</td>\n",
              "      <td>Indoor</td>\n",
              "      <td>Hard</td>\n",
              "      <td>Masters Cup</td>\n",
              "    </tr>\n",
              "    <tr>\n",
              "      <th>54904</th>\n",
              "      <td>Tsitsipas S.</td>\n",
              "      <td>Federer R.</td>\n",
              "      <td>3.750</td>\n",
              "      <td>1.330</td>\n",
              "      <td>2019+AC0-11+AC0-16</td>\n",
              "      <td>6</td>\n",
              "      <td>3</td>\n",
              "      <td>Semifinals</td>\n",
              "      <td>Indoor</td>\n",
              "      <td>Hard</td>\n",
              "      <td>Masters Cup</td>\n",
              "    </tr>\n",
              "    <tr>\n",
              "      <th>54905</th>\n",
              "      <td>Thiem D.</td>\n",
              "      <td>Zverev A.</td>\n",
              "      <td>1.840</td>\n",
              "      <td>2.100</td>\n",
              "      <td>2019+AC0-11+AC0-16</td>\n",
              "      <td>5</td>\n",
              "      <td>7</td>\n",
              "      <td>Semifinals</td>\n",
              "      <td>Indoor</td>\n",
              "      <td>Hard</td>\n",
              "      <td>Masters Cup</td>\n",
              "    </tr>\n",
              "    <tr>\n",
              "      <th>54906</th>\n",
              "      <td>Tsitsipas S.</td>\n",
              "      <td>Thiem D.</td>\n",
              "      <td>2.000</td>\n",
              "      <td>1.930</td>\n",
              "      <td>2019+AC0-11+AC0-17</td>\n",
              "      <td>6</td>\n",
              "      <td>5</td>\n",
              "      <td>The Final</td>\n",
              "      <td>Indoor</td>\n",
              "      <td>Hard</td>\n",
              "      <td>Masters Cup</td>\n",
              "    </tr>\n",
              "  </tbody>\n",
              "</table>\n",
              "<p>39844 rows × 11 columns</p>\n",
              "</div>"
            ],
            "text/plain": [
              "              Winner          Loser    PSW  ...    Court Surface          Tournament\n",
              "11641      Spadea V.      Melzer J.  1.465  ...  Outdoor    Hard  AAPT Championships\n",
              "11642        Dent T.       Horna L.  1.241  ...  Outdoor    Hard  AAPT Championships\n",
              "11643      Martin A.       Ancic M.  2.170  ...  Outdoor    Hard  AAPT Championships\n",
              "11644        Beck K.      Vahaly B.  1.730  ...  Outdoor    Hard  AAPT Championships\n",
              "11645    Nieminen J.      Moodie W.  1.459  ...  Outdoor    Hard  AAPT Championships\n",
              "...              ...            ...    ...  ...      ...     ...                 ...\n",
              "54902      Nadal R.   Tsitsipas S.   1.390  ...   Indoor    Hard         Masters Cup\n",
              "54903     Zverev A.    Medvedev D.   2.140  ...   Indoor    Hard         Masters Cup\n",
              "54904  Tsitsipas S.     Federer R.   3.750  ...   Indoor    Hard         Masters Cup\n",
              "54905      Thiem D.      Zverev A.   1.840  ...   Indoor    Hard         Masters Cup\n",
              "54906  Tsitsipas S.       Thiem D.   2.000  ...   Indoor    Hard         Masters Cup\n",
              "\n",
              "[39844 rows x 11 columns]"
            ]
          },
          "metadata": {
            "tags": []
          },
          "execution_count": 39
        }
      ]
    },
    {
      "cell_type": "code",
      "metadata": {
        "id": "BDf7PYJe9Bkk"
      },
      "source": [
        "dfx[\"elo1\"] = np.nan\n",
        "dfx[\"elo2\"] = np.nan\n",
        " \n"
      ],
      "execution_count": null,
      "outputs": []
    },
    {
      "cell_type": "code",
      "metadata": {
        "id": "SF6bvG6zczU5"
      },
      "source": [
        "elo={}\n",
        "elom={}\n",
        "tournoi={}\n",
        "dati={}\n",
        "for i in range(1,dfx.shape[0]-1):\n",
        "  elo[dfx.iloc[i,0]] = 1200\n",
        "  elo[dfx.iloc[i,1]] = 1200\n",
        "elom=elo.copy()"
      ],
      "execution_count": 93,
      "outputs": []
    },
    {
      "cell_type": "code",
      "metadata": {
        "id": "vfAnrh94qs-O"
      },
      "source": [
        "m=0\n",
        "nomold=''\n",
        "liste = []\n",
        "for i in range(0,dfx.shape[0]-50):\n",
        " g = 1/dfx.iloc[i,2]\n",
        " d = 1/dfx.iloc[i,3]\n",
        " n1 = dfx.iloc[i,0]\n",
        " n2 = dfx.iloc[i,1]\n",
        " elo1 = elo[n1]\n",
        " elo2 = elo[n2]\n",
        " pd= 1/(1+10**((elo2-elo1)/400))\n",
        " elo[n1] = elo1 + 20 * ( g * (1-pd) - d * pd)  \n",
        " elo[n2] = elo2 - 20 * ( g * (1-pd) - d * pd)\n",
        " if elo[n1]>elom[n1]:\n",
        "  elom[n1]=elo[n1]\n",
        "  tournoi[n1]=dfx.iloc[i,9]\n",
        "  dati[n1]=dfx.iloc[i,4]\n",
        " if elo[n2]>elom[n2]:\n",
        "  elom[n2]=elo[n2]\n",
        "  tournoi[n2]=dfx.iloc[i,9]\n",
        "  dati[n2]=dfx.iloc[i,4]\n"
      ],
      "execution_count": 94,
      "outputs": []
    },
    {
      "cell_type": "code",
      "metadata": {
        "colab": {
          "base_uri": "https://localhost:8080/"
        },
        "id": "E4k6SbzWqjIE",
        "outputId": "5c18c738-6ed7-445a-e073-f9d7eb5cbedc"
      },
      "source": [
        "tab=sorted(elom.items(), key=lambda t: t[1],reverse=True)\n",
        "for i in range(0,15):\n",
        "  print(tournoi[tab[i][0]],tab[i],dati[tab[i][0]])"
      ],
      "execution_count": 95,
      "outputs": [
        {
          "output_type": "stream",
          "text": [
            "Clay ('Djokovic N.', 1806.2430421318702) 2016+AC0-05+AC0-08\n",
            "Clay ('Nadal R.', 1748.572851708166) 2014+AC0-06+AC0-08\n",
            "Hard ('Federer R.', 1715.5172784431315) 2008+AC0-01+AC0-23\n",
            "Hard ('Murray A.', 1692.6886105907595) 2017+AC0-03+AC0-02\n",
            "Hard ('Del Potro J.M.', 1568.4608673821904) 2014+AC0-01+AC0-08\n",
            "Clay ('Ferrer D.', 1564.4312734474993) 2013+AC0-06+AC0-07\n",
            "Hard ('Berdych T.', 1557.2771791883274) 2015+AC0-09+AC0-05\n",
            "Hard ('Nishikori K.', 1553.4498692520344) 2017+AC0-01+AC0-22\n",
            "Hard ('Raonic M.', 1539.725932029336) 2017+AC0-03+AC0-26\n",
            "Hard ('Wawrinka S.', 1529.73327975441) 2016+AC0-07+AC0-30\n",
            "Clay ('Zverev A.', 1518.2227079664901) 2019+AC0-04+AC0-09\n",
            "Hard ('Tsonga J.W.', 1517.184346220032) 2014+AC0-02+AC0-21\n",
            "Hard ('Cilic M.', 1513.634110573662) 2018+AC0-09+AC0-05\n",
            "Hard ('Roddick A.', 1506.3978005013264) 2010+AC0-07+AC0-23\n",
            "Clay ('Soderling R.', 1503.5800667338256) 2011+AC0-07+AC0-17\n"
          ],
          "name": "stdout"
        }
      ]
    }
  ]
}